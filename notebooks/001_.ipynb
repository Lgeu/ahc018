{
 "cells": [
  {
   "cell_type": "code",
   "execution_count": 1,
   "id": "fb917ad0",
   "metadata": {},
   "outputs": [],
   "source": [
    "import numpy as np\n"
   ]
  },
  {
   "cell_type": "code",
   "execution_count": 4,
   "id": "c198a82b",
   "metadata": {},
   "outputs": [
    {
     "name": "stdout",
     "output_type": "stream",
     "text": [
      "0000.txt  0013.txt  0026.txt  0039.txt  0052.txt  0065.txt  0078.txt  0091.txt\r\n",
      "0001.txt  0014.txt  0027.txt  0040.txt  0053.txt  0066.txt  0079.txt  0092.txt\r\n",
      "0002.txt  0015.txt  0028.txt  0041.txt  0054.txt  0067.txt  0080.txt  0093.txt\r\n",
      "0003.txt  0016.txt  0029.txt  0042.txt  0055.txt  0068.txt  0081.txt  0094.txt\r\n",
      "0004.txt  0017.txt  0030.txt  0043.txt  0056.txt  0069.txt  0082.txt  0095.txt\r\n",
      "0005.txt  0018.txt  0031.txt  0044.txt  0057.txt  0070.txt  0083.txt  0096.txt\r\n",
      "0006.txt  0019.txt  0032.txt  0045.txt  0058.txt  0071.txt  0084.txt  0097.txt\r\n",
      "0007.txt  0020.txt  0033.txt  0046.txt  0059.txt  0072.txt  0085.txt  0098.txt\r\n",
      "0008.txt  0021.txt  0034.txt  0047.txt  0060.txt  0073.txt  0086.txt  0099.txt\r\n",
      "0009.txt  0022.txt  0035.txt  0048.txt  0061.txt  0074.txt  0087.txt\r\n",
      "0010.txt  0023.txt  0036.txt  0049.txt  0062.txt  0075.txt  0088.txt\r\n",
      "0011.txt  0024.txt  0037.txt  0050.txt  0063.txt  0076.txt  0089.txt\r\n",
      "0012.txt  0025.txt  0038.txt  0051.txt  0064.txt  0077.txt  0090.txt\r\n"
     ]
    }
   ],
   "source": [
    "ls ../tools/in"
   ]
  },
  {
   "cell_type": "code",
   "execution_count": null,
   "id": "401c94f6",
   "metadata": {},
   "outputs": [],
   "source": [
    "filename = \"../tools/in/0000.txt\"\n",
    "with open(filename) as f:\n",
    "    N, K, W, C = map(int, f.readline().split())\n",
    "    water_sources = []\n",
    "    for _ in range(W):\n",
    "        y, x = map(int, f.readline().split())\n",
    "        water_sources.append([y, x])\n",
    "    houses = []\n",
    "    for _ in range(K):\n",
    "        y, x = map(int, f.readline().split())\n",
    "        houses.append([y, x])\n",
    "    "
   ]
  },
  {
   "cell_type": "code",
   "execution_count": null,
   "id": "9f570f98",
   "metadata": {},
   "outputs": [],
   "source": [
    "class GaussianProcess:\n",
    "    def __init__(self,)"
   ]
  },
  {
   "cell_type": "code",
   "execution_count": null,
   "id": "08a6568e",
   "metadata": {},
   "outputs": [],
   "source": []
  }
 ],
 "metadata": {
  "kernelspec": {
   "display_name": "Python 3 (ipykernel)",
   "language": "python",
   "name": "python3"
  },
  "language_info": {
   "codemirror_mode": {
    "name": "ipython",
    "version": 3
   },
   "file_extension": ".py",
   "mimetype": "text/x-python",
   "name": "python",
   "nbconvert_exporter": "python",
   "pygments_lexer": "ipython3",
   "version": "3.9.9"
  }
 },
 "nbformat": 4,
 "nbformat_minor": 5
}
